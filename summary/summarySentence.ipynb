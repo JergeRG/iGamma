{
 "cells": [
  {
   "cell_type": "code",
   "execution_count": 6,
   "metadata": {},
   "outputs": [],
   "source": [
    "import csv\n",
    "import pandas as pd"
   ]
  },
  {
   "cell_type": "code",
   "execution_count": 7,
   "metadata": {},
   "outputs": [],
   "source": [
    "def extractDict(nameFile):\n",
    "    dic = {}\n",
    "    with open(nameFile) as file:\n",
    "        reader = csv.reader(file)\n",
    "        if len(reader.__next__()) > 2:\n",
    "            for row in reader:\n",
    "                key = row[0]\n",
    "                if key in dic.keys():\n",
    "                    dic[key] += [row[1:]]\n",
    "                else:\n",
    "                    dic[key] = [row[1:]]\n",
    "        else:\n",
    "            for row in reader:\n",
    "                key = row[0]\n",
    "                dic[key] = row[1:][0]\n",
    "    return dic"
   ]
  },
  {
   "cell_type": "code",
   "execution_count": 8,
   "metadata": {},
   "outputs": [],
   "source": [
    "def summarize(entity, dictElement):\n",
    "    textPositive, textNegative, wordsPolarity = [], [], []\n",
    "    totalTexts, countPositive, countNegative, dominance = 0, 0, 0, 0\n",
    "    for element in dictElement[entity]:\n",
    "        totalTexts += 1 \n",
    "        sentiment = int(element[1]) + int(element[2])\n",
    "        dominance += sentiment\n",
    "        if sentiment > -1:\n",
    "            countPositive = countPositive + 1\n",
    "            textPositive += [element[0]]\n",
    "        else:\n",
    "            countNegative = countNegative + 1\n",
    "            textNegative += [element[0]]\n",
    "        for word in element[3].strip('[]').replace(\"'\",\"\").split(\", \"):\n",
    "            if word not in wordsPolarity and len(word)>2:\n",
    "                wordsPolarity.append(word)\n",
    "    return [textPositive, countPositive, textNegative, countNegative, totalTexts, dominance, wordsPolarity]"
   ]
  },
  {
   "cell_type": "code",
   "execution_count": 9,
   "metadata": {},
   "outputs": [],
   "source": [
    "dictEntities = extractDict('../listRelacion.csv')\n",
    "dictSentence = extractDict('../identifySentiment/sentencesPolarity.csv')"
   ]
  },
  {
   "cell_type": "code",
   "execution_count": 13,
   "metadata": {},
   "outputs": [],
   "source": [
    "#lstSummary = [['Entidad', 'Descripción', 'Predominancia',\n",
    "#               'Enunciados postivos', 'Total de enunciados positivos',\n",
    "#               'Enunciados negativos', 'Total de enunciados negativos',\n",
    "#               'Palabras que dan la carga', 'Total de enunciados']]\n",
    "lstEntity, lstDescription, lstDominance, lstTextPositive, lstCountPositive = [], [], [], [], []\n",
    "lstTextNegative, lstCountNegative, lstWordsPolarity, lstTotalTexts = [], [], [], []\n",
    "for (description, entity) in dictEntities.items():\n",
    "    textPositive, textNegative, wordsPolarity = [], [], []\n",
    "    countPositive, countNegative, totalTexts, dominance = 0, 0, 0, 0 \n",
    "    if entity in dictSentence.keys():\n",
    "        [textPositive, countPositive, textNegative,\n",
    "         countNegative, totalTexts, dominance, wordsPolarity] = summarize(entity, dictSentence)\n",
    "    if dominance > 0:\n",
    "        dominance = 'Positiva' \n",
    "    elif dominance < 0:\n",
    "        dominance = 'Negativa'\n",
    "    else:\n",
    "        dominance = 'Neutra'\n",
    "        \n",
    "    lstEntity.append(entity)\n",
    "    lstDescription.append(description)\n",
    "    lstDominance.append(dominance)\n",
    "    lstTextPositive.append(textPositive)\n",
    "    lstCountPositive.append(countPositive)\n",
    "    lstTextNegative.append(textNegative)\n",
    "    lstCountNegative.append(countNegative)\n",
    "    lstWordsPolarity.append(wordsPolarity)\n",
    "    lstTotalTexts.append(totalTexts)\n",
    "\n",
    "df = pd.DataFrame({'Entidad': lstEntity, 'Descripción': lstDescription, 'Predominancia': lstDominance,\n",
    "               'Enunciados postivos': lstTextPositive, 'Total de enunciados positivos': lstCountPositive,\n",
    "               'Enunciados negativos': lstTextNegative, 'Total de enunciados negativos': lstCountNegative,\n",
    "               'Palabras que dan la carga': lstWordsPolarity, 'Total de enunciados': lstTotalTexts})"
   ]
  },
  {
   "cell_type": "code",
   "execution_count": 19,
   "metadata": {},
   "outputs": [],
   "source": [
    "writer = pd.ExcelWriter('summarySentence.xlsx', engine = 'xlsxwriter')\n",
    "df.to_excel(writer, sheet_name = 'Sheet1', index = False)\n",
    "writer.save()"
   ]
  },
  {
   "cell_type": "code",
   "execution_count": null,
   "metadata": {},
   "outputs": [],
   "source": []
  },
  {
   "cell_type": "code",
   "execution_count": null,
   "metadata": {},
   "outputs": [],
   "source": []
  }
 ],
 "metadata": {
  "kernelspec": {
   "display_name": "Python 3",
   "language": "python",
   "name": "python3"
  },
  "language_info": {
   "codemirror_mode": {
    "name": "ipython",
    "version": 3
   },
   "file_extension": ".py",
   "mimetype": "text/x-python",
   "name": "python",
   "nbconvert_exporter": "python",
   "pygments_lexer": "ipython3",
   "version": "3.8.3"
  }
 },
 "nbformat": 4,
 "nbformat_minor": 4
}
