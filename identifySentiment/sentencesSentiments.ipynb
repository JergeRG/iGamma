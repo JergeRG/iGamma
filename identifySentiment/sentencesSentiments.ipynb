{
 "cells": [
  {
   "cell_type": "code",
   "execution_count": 10,
   "metadata": {},
   "outputs": [],
   "source": [
    "import spacy\n",
    "import csv\n",
    "import re\n",
    "from subprocess import Popen\n",
    "from subprocess import PIPE"
   ]
  },
  {
   "cell_type": "code",
   "execution_count": 11,
   "metadata": {},
   "outputs": [],
   "source": [
    "def identifyEntity(sentence):\n",
    "    sentence = sentence.replace(\",\", \"\")\n",
    "    sentence = sentence.replace(\".\", \"\")\n",
    "    lstEntities = []\n",
    "    for word in sentence.split():\n",
    "        if word in dictEntities.values():\n",
    "            if word not in lstEntities:\n",
    "                lstEntities.append(word)\n",
    "    return lstEntities"
   ]
  },
  {
   "cell_type": "code",
   "execution_count": 12,
   "metadata": {},
   "outputs": [],
   "source": [
    "nlp = spacy.load('es_core_news_lg')"
   ]
  },
  {
   "cell_type": "code",
   "execution_count": 13,
   "metadata": {},
   "outputs": [],
   "source": [
    "dictEntities = {}\n",
    "with open('../listRelacion.csv') as file: \n",
    "    reader = csv.reader(file)\n",
    "    for row in reader:\n",
    "        if 'Entidad' == row[0]: continue\n",
    "        key = row[0]\n",
    "        dictEntities[key] = row[1:][0]"
   ]
  },
  {
   "cell_type": "code",
   "execution_count": 14,
   "metadata": {},
   "outputs": [],
   "source": [
    "with open('../textoLeySust1.txt') as file:\n",
    "    data = file.read()"
   ]
  },
  {
   "cell_type": "code",
   "execution_count": 15,
   "metadata": {},
   "outputs": [],
   "source": [
    "doc = nlp(data)"
   ]
  },
  {
   "cell_type": "code",
   "execution_count": 16,
   "metadata": {},
   "outputs": [],
   "source": [
    "lstSentiments = [['Entidad', 'Enunciado', 'Puntuación Positiva', 'Puntuación Negativa',\n",
    "                  'Palabras que dan la carga']]\n",
    "for sentence in list(doc.sents):\n",
    "    identifySentiment = 0\n",
    "    for entity in identifyEntity(str(sentence)):\n",
    "        if not identifySentiment:\n",
    "            identifySentiment = 1\n",
    "            sentStrength = Popen([\"java\", \"-jar\", \"./java/SentStrength/SentiStrengthCom.jar\", \"sentidata\", \n",
    "                                  \"./java/SentStrength_Data/Español/\", \"text\", str(sentence), \"sentenceCombineTot\", \n",
    "                                  \"paragraphCombineTot\", \"explain\", \"trinary\"], stdout = PIPE)\n",
    "            result = sentStrength.communicate()[0].decode('utf-8')\n",
    "            polarity = result.split()[0:2]\n",
    "            wordsPolarity = re.findall(r'(\\w+\\[\\-?[0-9]+\\])', result)\n",
    "        \n",
    "        lstSentiments.append([entity, sentence, polarity[0], polarity[1], wordsPolarity])"
   ]
  },
  {
   "cell_type": "code",
   "execution_count": 17,
   "metadata": {},
   "outputs": [],
   "source": [
    "with open('sentencesPolarity.csv', 'w', encoding = 'utf_8_sig') as file:\n",
    "    writer = csv.writer(file)\n",
    "    writer.writerows(lstSentiments)"
   ]
  },
  {
   "cell_type": "code",
   "execution_count": null,
   "metadata": {},
   "outputs": [],
   "source": []
  }
 ],
 "metadata": {
  "kernelspec": {
   "display_name": "Python 3",
   "language": "python",
   "name": "python3"
  },
  "language_info": {
   "codemirror_mode": {
    "name": "ipython",
    "version": 3
   },
   "file_extension": ".py",
   "mimetype": "text/x-python",
   "name": "python",
   "nbconvert_exporter": "python",
   "pygments_lexer": "ipython3",
   "version": "3.8.3"
  }
 },
 "nbformat": 4,
 "nbformat_minor": 4
}
