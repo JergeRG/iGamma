{
 "cells": [
  {
   "cell_type": "code",
   "execution_count": 1,
   "metadata": {},
   "outputs": [],
   "source": [
    "import spacy\n",
    "import csv\n",
    "import json\n",
    "import re\n",
    "from subprocess import Popen\n",
    "from subprocess import PIPE"
   ]
  },
  {
   "cell_type": "code",
   "execution_count": 2,
   "metadata": {},
   "outputs": [],
   "source": [
    "def extractContent(data):\n",
    "    lstContent = list()\n",
    "    for key in data:\n",
    "        if type(data[key]) == dict:\n",
    "            lstContent += extractContent(data[key])\n",
    "        elif key.lower() == 'contenido':\n",
    "            lstContent.append(str(data[key]).replace('-',''))\n",
    "    return lstContent\n",
    "\n",
    "def identifyEntity(sentence):\n",
    "    sentence = sentence.replace(\",\", \"\")\n",
    "    sentence = sentence.replace(\".\", \"\")\n",
    "    lstEntities = []\n",
    "    for word in sentence.split():\n",
    "        if word in dictEntities.values():\n",
    "            if word not in lstEntities:\n",
    "                lstEntities.append(word)\n",
    "    return lstEntities"
   ]
  },
  {
   "cell_type": "code",
   "execution_count": 3,
   "metadata": {},
   "outputs": [],
   "source": [
    "nlp = spacy.load('es_core_news_lg')\n",
    "with open('../148.json') as file:\n",
    "    data = json.load(file)"
   ]
  },
  {
   "cell_type": "code",
   "execution_count": 4,
   "metadata": {},
   "outputs": [],
   "source": [
    "dictEntities = {}\n",
    "with open('../listRelacion.csv') as file: \n",
    "    reader = csv.reader(file)\n",
    "    for row in reader:\n",
    "        if 'Entidad' == row[0]: continue\n",
    "        key = row[0]\n",
    "        dictEntities[key] = row[1:][0]"
   ]
  },
  {
   "cell_type": "code",
   "execution_count": 5,
   "metadata": {},
   "outputs": [],
   "source": [
    "listEntities_sort = sorted(dictEntities.keys(), key = lambda palabra: len(palabra), reverse=True)"
   ]
  },
  {
   "cell_type": "code",
   "execution_count": 6,
   "metadata": {},
   "outputs": [],
   "source": [
    "lstContent = extractContent(data) "
   ]
  },
  {
   "cell_type": "code",
   "execution_count": 7,
   "metadata": {},
   "outputs": [],
   "source": [
    "lstSentiments = [['Entidad', 'Párrafo', 'Puntución Positiva', 'Puntución Negativa',\n",
    "                 'Palabras que dan la carga']]\n",
    "for paragraph in lstContent:\n",
    "    paragraph = re.sub(r'\\r\\n','', str(paragraph))\n",
    "    paragraph = paragraph.replace(\"\\n\",\" \") \n",
    "    for entity in listEntities_sort:\n",
    "        paragraph = paragraph.replace(entity, dictEntities[entity])\n",
    "    identifySentiment = 0\n",
    "    for entity in identifyEntity(paragraph):\n",
    "        if not identifySentiment:\n",
    "            identifySentiment = 1\n",
    "            sentStrength = Popen([\"java\", \"-jar\", \"./java/SentStrength/SentiStrengthCom.jar\", \"sentidata\", \n",
    "                              \"./java/SentStrength_Data/Español/\", \"text\", paragraph, \"sentenceCombineTot\", \n",
    "                              \"paragraphCombineTot\", \"explain\", \"trinary\"], stdout = PIPE)\n",
    "            result = sentStrength.communicate()[0].decode('utf-8')\n",
    "            polarity = result.split()[0:2]\n",
    "            wordsPolarity = re.findall(r'(\\w+\\[\\-?[0-9]+\\])', result)\n",
    "        lstSentiments.append([entity, paragraph, polarity[0], polarity[1], wordsPolarity])"
   ]
  },
  {
   "cell_type": "code",
   "execution_count": 9,
   "metadata": {},
   "outputs": [],
   "source": [
    "with open('paragraphPolarity.csv', 'w', encoding = 'utf_8_sig') as file:\n",
    "    writer = csv.writer(file)\n",
    "    writer.writerows(lstSentiments)"
   ]
  },
  {
   "cell_type": "code",
   "execution_count": null,
   "metadata": {},
   "outputs": [],
   "source": []
  }
 ],
 "metadata": {
  "kernelspec": {
   "display_name": "Python 3",
   "language": "python",
   "name": "python3"
  },
  "language_info": {
   "codemirror_mode": {
    "name": "ipython",
    "version": 3
   },
   "file_extension": ".py",
   "mimetype": "text/x-python",
   "name": "python",
   "nbconvert_exporter": "python",
   "pygments_lexer": "ipython3",
   "version": "3.8.3"
  }
 },
 "nbformat": 4,
 "nbformat_minor": 4
}
